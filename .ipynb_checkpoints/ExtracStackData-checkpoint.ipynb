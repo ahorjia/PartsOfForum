{
 "cells": [
  {
   "cell_type": "code",
   "execution_count": 1,
   "metadata": {
    "collapsed": false
   },
   "outputs": [],
   "source": [
    "# postFile = \"../StackExchangedData/3dprinting.stackexchange.com/Posts.xml\"\n",
    "postFile = \"../StackExchangedData/ai.stackexchange.com/Posts.xml\""
   ]
  },
  {
   "cell_type": "code",
   "execution_count": 2,
   "metadata": {
    "collapsed": true
   },
   "outputs": [],
   "source": [
    "import xml.etree.ElementTree\n",
    "e = xml.etree.ElementTree.parse(postFile).getroot()"
   ]
  },
  {
   "cell_type": "code",
   "execution_count": 3,
   "metadata": {
    "collapsed": false
   },
   "outputs": [
    {
     "name": "stdout",
     "output_type": "stream",
     "text": [
      "421\n"
     ]
    }
   ],
   "source": [
    "titles = []\n",
    "for atype in e.findall('row'):\n",
    "    title = atype.get('Title')\n",
    "    if title is not None:\n",
    "        titles.append(title)\n",
    "        \n",
    "print(len(titles))"
   ]
  },
  {
   "cell_type": "code",
   "execution_count": 4,
   "metadata": {
    "collapsed": false
   },
   "outputs": [],
   "source": [
    "alltitles = \" \".join(titles).lower()"
   ]
  },
  {
   "cell_type": "code",
   "execution_count": 5,
   "metadata": {
    "collapsed": false
   },
   "outputs": [
    {
     "name": "stdout",
     "output_type": "stream",
     "text": [
      "what is \"backprop\"? how does noise affect generalization? how to find the optimal number of neurons per layer? how to program ai in mindstorms on the intelligent agent definition of intelligence why does stephen hawking say \"artificial intelligence will kill us all\"? what is fuzzy logic? can a single neural network handle recognizing two types of objects, or should it be split into two smaller networks? is the turing test, or any of its variants, a reliable test of artificial intelligence? what is early stopping? what is the concept of the technological singularity? what are the methods of optimizing overfitted models? how could emotional intelligence be implemented? is a genetic algorithm an example of artificial intelligence? what is the difference between artificial intelligence and machine learning? to what extent can quantum computers help to develop artificial intelligence? what is a markov chain and how can it be used in creating artificial intelligence? what is the \"dropout\" te\n"
     ]
    }
   ],
   "source": [
    "print(alltitles[:1000])"
   ]
  },
  {
   "cell_type": "code",
   "execution_count": 6,
   "metadata": {
    "collapsed": true
   },
   "outputs": [],
   "source": [
    "import nltk\n",
    "#nltk.download()"
   ]
  },
  {
   "cell_type": "code",
   "execution_count": 7,
   "metadata": {
    "collapsed": true
   },
   "outputs": [],
   "source": [
    "# POS tagger\n",
    "tokens = nltk.word_tokenize(alltitles)"
   ]
  },
  {
   "cell_type": "code",
   "execution_count": 8,
   "metadata": {
    "collapsed": false
   },
   "outputs": [
    {
     "name": "stdout",
     "output_type": "stream",
     "text": [
      "['what', 'is', '``', 'backprop', \"''\", '?', 'how', 'does', 'noise', 'affect']\n"
     ]
    }
   ],
   "source": [
    "# Tokenized Text\n",
    "print(tokens[:10])"
   ]
  },
  {
   "cell_type": "code",
   "execution_count": 9,
   "metadata": {
    "collapsed": false
   },
   "outputs": [
    {
     "name": "stdout",
     "output_type": "stream",
     "text": [
      "[('what', 'WP'), ('is', 'VBZ'), ('``', '``'), ('backprop', 'NN'), (\"''\", \"''\"), ('?', '.'), ('how', 'WRB'), ('does', 'VBZ'), ('noise', 'VB'), ('affect', 'VB'), ('generalization', 'NN'), ('?', '.'), ('how', 'WRB'), ('to', 'TO'), ('find', 'VB')]\n"
     ]
    }
   ],
   "source": [
    "# Tagged Text\n",
    "tagged_text = nltk.pos_tag(tokens)\n",
    "print(tagged_text[:15])"
   ]
  },
  {
   "cell_type": "code",
   "execution_count": 10,
   "metadata": {
    "collapsed": false
   },
   "outputs": [
    {
     "name": "stdout",
     "output_type": "stream",
     "text": [
      "NN: noun, common, singular or mass\n",
      "    common-carrier cabbage knuckle-duster Casino afghan shed thermostat\n",
      "    investment slide humour falloff slick wind hyena override subhumanity\n",
      "    machinist ...\n",
      "NNP: noun, proper, singular\n",
      "    Motown Venneboerger Czestochwa Ranzer Conchita Trumplane Christos\n",
      "    Oceanside Escobar Kreisler Sawyer Cougar Yvette Ervin ODI Darryl CTCA\n",
      "    Shannon A.K.C. Meltex Liverpool ...\n",
      "NNPS: noun, proper, plural\n",
      "    Americans Americas Amharas Amityvilles Amusements Anarcho-Syndicalists\n",
      "    Andalusians Andes Andruses Angels Animals Anthony Antilles Antiques\n",
      "    Apache Apaches Apocrypha ...\n",
      "NNS: noun, common, plural\n",
      "    undergraduates scotches bric-a-brac products bodyguards facets coasts\n",
      "    divestitures storehouses designs clubs fragrances averages\n",
      "    subjectivists apprehensions muses factory-jobs ...\n"
     ]
    }
   ],
   "source": [
    "#Documentation\n",
    "nltk.help.upenn_tagset('NN.*')"
   ]
  },
  {
   "cell_type": "markdown",
   "metadata": {},
   "source": [
    "Homonyms: each of two or more words having the same spelling but different meanings and origins (e.g., pole1 and pole2); a homograph.\n",
    "\n",
    "* Over - Preposition\n",
    "* The - Determiner\n",
    "* A - Determiner\n",
    "* And - Coordinating Conjunction\n"
   ]
  },
  {
   "cell_type": "code",
   "execution_count": 11,
   "metadata": {
    "collapsed": true
   },
   "outputs": [],
   "source": [
    "# Convert tokens to NLTK Text\n",
    "text = nltk.Text(tokens)"
   ]
  },
  {
   "cell_type": "code",
   "execution_count": 12,
   "metadata": {
    "collapsed": false
   },
   "outputs": [
    {
     "name": "stdout",
     "output_type": "stream",
     "text": [
      "networks\n"
     ]
    }
   ],
   "source": [
    "# Find similar words\n",
    "text.similar(\"network\")"
   ]
  },
  {
   "cell_type": "code",
   "execution_count": 13,
   "metadata": {
    "collapsed": false
   },
   "outputs": [
    {
     "name": "stdout",
     "output_type": "stream",
     "text": [
      "conditions an are they moves a genetic\n"
     ]
    }
   ],
   "source": [
    "text.similar(\"the\")"
   ]
  },
  {
   "cell_type": "code",
   "execution_count": 14,
   "metadata": {
    "collapsed": false
   },
   "outputs": [
    {
     "name": "stdout",
     "output_type": "stream",
     "text": [
      "does image\n"
     ]
    }
   ],
   "source": [
    "text.similar(\"artificial\")"
   ]
  },
  {
   "cell_type": "code",
   "execution_count": 15,
   "metadata": {
    "collapsed": false
   },
   "outputs": [
    {
     "name": "stdout",
     "output_type": "stream",
     "text": [
      "('fly', 'NN')\n"
     ]
    }
   ],
   "source": [
    "sample_tagged_token = nltk.tag.str2tuple('fly/NN')\n",
    "print(sample_tagged_token)"
   ]
  },
  {
   "cell_type": "code",
   "execution_count": 16,
   "metadata": {
    "collapsed": false
   },
   "outputs": [
    {
     "data": {
      "text/plain": [
       "dict_keys(['MD', 'POS', 'JJR', '(', 'CD', 'JJS', '.', 'RP', ')', 'VBG', 'NN', 'NNP', \"''\", 'RB', 'VB', 'WDT', 'IN', 'VBP', ',', 'VBZ', '``', 'RBR', 'WRB', 'PRP$', 'TO', 'VBD', 'VBN', 'SYM', 'RBS', 'WP', 'NNS', 'DT', 'EX', 'PRP', 'JJ', 'CC', ':', '$'])"
      ]
     },
     "execution_count": 16,
     "metadata": {},
     "output_type": "execute_result"
    }
   ],
   "source": [
    "# Most common tags in the text\n",
    "tag_fd = nltk.FreqDist(tag for (word, tag) in tagged_text)\n",
    "tag_fd.keys()"
   ]
  },
  {
   "cell_type": "code",
   "execution_count": 17,
   "metadata": {
    "collapsed": true
   },
   "outputs": [],
   "source": [
    "#tag_fd.plot()"
   ]
  },
  {
   "cell_type": "markdown",
   "metadata": {},
   "source": [
    "* Adjectives as modifiers (The large pizza)\n",
    "* As predicates (The pizza is large)"
   ]
  },
  {
   "cell_type": "code",
   "execution_count": 18,
   "metadata": {
    "collapsed": true
   },
   "outputs": [],
   "source": [
    "#nltk.app.concordance()"
   ]
  },
  {
   "cell_type": "code",
   "execution_count": 19,
   "metadata": {
    "collapsed": false
   },
   "outputs": [
    {
     "name": "stdout",
     "output_type": "stream",
     "text": [
      "['NNS', 'NN', 'NNP']\n"
     ]
    }
   ],
   "source": [
    "cfd = nltk.ConditionalFreqDist((tag, word) for (word, tag) in tagged_text if tag.startswith('NN'))\n",
    "print(cfd.conditions())\n",
    "nounConditions = cfd.conditions()"
   ]
  },
  {
   "cell_type": "code",
   "execution_count": 20,
   "metadata": {
    "collapsed": false
   },
   "outputs": [
    {
     "name": "stdout",
     "output_type": "stream",
     "text": [
      "['strategies', 'hallucinations', 'hawkins', 'studies', 'microchips', 'technologies', 'emotions', 'leaders', 'experts', 'linguistics']\n"
     ]
    }
   ],
   "source": [
    "cfd['NNS'].keys()\n",
    "print(list(cfd['NNS'].keys())[:10])"
   ]
  },
  {
   "cell_type": "code",
   "execution_count": 21,
   "metadata": {
    "collapsed": false
   },
   "outputs": [],
   "source": [
    "# Find the words with the given tag\n",
    "def findtags(tag_prefix, tagged_text, retCount):\n",
    "    cfd = nltk.ConditionalFreqDist((tag, word) for (word, tag) in tagged_text if tag.startswith(tag_prefix))\n",
    "    return dict((tag, list(cfd[tag].keys())[:retCount]) for tag in cfd.conditions())"
   ]
  },
  {
   "cell_type": "code",
   "execution_count": 22,
   "metadata": {
    "collapsed": false
   },
   "outputs": [
    {
     "name": "stdout",
     "output_type": "stream",
     "text": [
      "{'NNS': ['strategies', 'hallucinations', 'hawkins', 'studies', 'microchips', 'technologies', 'emotions', 'leaders', 'experts', 'linguistics'], 'NN': ['belief', 'effect', 'leakage', 'think', 'format', 'try', 'test', 'calcium', 'intelligence', 'mixture'], 'NNP': ['von', '[', '/', 'minsky', 'xor', \"'pong-v0\"]}\n"
     ]
    }
   ],
   "source": [
    "tagdict = findtags('NN', tagged_text, 10)\n",
    "print(tagdict)"
   ]
  },
  {
   "cell_type": "code",
   "execution_count": 23,
   "metadata": {
    "collapsed": false
   },
   "outputs": [
    {
     "name": "stdout",
     "output_type": "stream",
     "text": [
      "help to develop\n",
      "used to tackle\n",
      "considered to be\n",
      "developed to test\n",
      "continue to be\n",
      "used to augment\n",
      "designed to run\n",
      "attempt to use\n",
      "required to simulate\n",
      "aiming to achieve\n",
      "help to make\n",
      "needed to create\n",
      "are to replacing\n",
      "used to prevent\n",
      "are to learn\n",
      "want to simulate\n",
      "done to correct\n",
      "lie to /\n",
      "steps to learn\n",
      "used to train\n",
      "used to recreate\n",
      "required to solve\n",
      "said to be\n",
      "used to predict\n"
     ]
    }
   ],
   "source": [
    "# Three word phrases\n",
    "def process(sentence):\n",
    "    for (w1, t1), (w2, t2), (w3, t3) in nltk.trigrams(sentence):\n",
    "        if (t1.startswith('V') and t2 == 'TO' and t3.startswith('V')):\n",
    "            print(w1, w2, w3)\n",
    "\n",
    "process(tagged_text)"
   ]
  },
  {
   "cell_type": "code",
   "execution_count": 24,
   "metadata": {
    "collapsed": false
   },
   "outputs": [
    {
     "name": "stdout",
     "output_type": "stream",
     "text": [
      "NNS ['networks', 'systems', 'cars', 'problems', 'data', 'neurons', 'methods', 'approaches', 'images', 'models', 'algorithms', 'questions', 'ai', 'advantages', 'layers', 'humans', 'robots', 'patterns', 'laws', 'languages', 'rights', 'machines', 'actions', 'features', 'people', 'games', 'tests', 'examples', 'programs', 'requirements', 'studies', 'chips', 'chatbots', 'jobs', 'applications', 'variants', 'capabilities', 'mars', 'nodes', 'differences', 'resources', 'references', 'settings', 'components', 'objects', 'challenges', 'states', 'computers', 'hyper-heuristics', 'designs', 'moves', 'convnets', 'results', 'techniques', 'boundaries', 'autoencoders', 'schemes', 'regulations', 'pilots', 'screenplays', 'numbers', 'means', 'ways', 'implications', 'supplements', 'discoveries', 'tasks', 'choices', 'flaws', 'diagnoses', 'reactions', 'judges', 'exists', 'symptoms', 'vectors', 'neural-networks', 'students', 'operations', 'emotions', 'classes', 'researchers', 'libraries', 'dimensions', 'cameras', 'users', 'reports', 'gestures', 'experts', 'gofai', 'encyclopedias', 'pictures', 'kinds', 'sizes', 'resnets', 'beginners', 'equations', 'brains', 'alternatives', 'things', 'tools', 'attempts', 'books', 'rules', 'dangers', 'types', 'signs', 'ethics', 'brainwaves', 'scientists', 'nn', 'drives', 'gaps', 'spaces', 'cleaners', 'constraints', 'minds', 'weights', 'incompletenes', 'phrases', 'engines', 'issues', 'capsules', 'criteria', 'characters', 'squares', 'leaders', 'orientations', 'solvers', 'mindstorms', 'goals', 'perceptrons', 'scenes', 'factors', 'epigenetics', 'areas', 'intelligences', 'hawkins', 'strategies', 'answers', 'metrics', 'functions', 'clothes', 'mistakes', 'years', 'projects', 'decisions', 'units', 'limits', 'linguistics', 'robotics']\n",
      "NN ['ai', 'intelligence', 'network', 'learning', 'machine', 'work', 'language', 'difference', 'algorithm', 'recognition', 'problem', 'research', 'image', 'game', 'algorithms', 'way', 'program', 'reinforcement', 'computer', 'brain', 'test', 'search', 'number', 'training', 'function', 'kind', 'argument', 'car', 'detection', 'model', 'programming', 'concept', 'system', 'cnn', 'agi', 'framework', 'environment', 'technique', 'someone', 'development', 'sentient', 'input', 'theory', 'representation', 'backpropagation', 'dream', 'power', 'state', 'net', 'agent', 'level', 'learn', 'ais', 'space', 'purpose', 'definition', 'text', 'processing', 'efficiency', 'mlp', 'trap', 'decision', 'anybody', 'measure', 'part', 'domain', 'error', 'feature', 'code', 'halting', 'use', 'application', 'developer', 'amount', 'dnn', 'tree', 'something', 'layer', 'classification', 'time', 'action', 'chatbot', 'world', 'iq', 'human', 'practice', 'real-time', 'summarization', 'start', 'position', 'asimov', 'death', 'carlo', 'example', 'optimization', 'video', 'place', 'radar', 'go', 'watson', 'sort', 'value', 'stack', 'context', 'solution', 'emotion', 'life', 'state/action', 'step', 'generation', 'government', 'toe', 'streams', 'lstms', 'extent', 'intent', 'everything', 'race', 'advent', 'significance', 'education/expertise', 'policy', 'machina', 'statement', 'loebner', 'q-learning', 'prevention', 'concentration', 'vision', 'solve', 'speech', 'edge', 'blockchain', 'adversarial', 'belief', 'hold', 'trade-off', 'illustration', 'apps', 'behavior', 'neumann', 'role', 'structure', 'greyhound', 'art', 'flexibility', 'kill', 'eq', 'coherent', 'robot']\n",
      "NNP ['/', '[', \"'pong-v0\", 'von', 'minsky', 'xor']\n"
     ]
    }
   ],
   "source": [
    "# Find the most common Nouns and proper Nouns\n",
    "word_tag_fd = nltk.FreqDist(tagged_text)\n",
    "\n",
    "# http://www.nltk.org/book/ch05.html\n",
    "for cond in nounConditions:\n",
    "    print(cond, [wt[0] for (wt, _) in word_tag_fd.most_common() if wt[1] == cond][:150])"
   ]
  },
  {
   "cell_type": "code",
   "execution_count": 25,
   "metadata": {
    "collapsed": false
   },
   "outputs": [
    {
     "data": {
      "text/plain": [
       "[(('?', '.'), 368),\n",
       " (('the', 'DT'), 147),\n",
       " (('to', 'TO'), 129),\n",
       " (('of', 'IN'), 116),\n",
       " (('is', 'VBZ'), 106)]"
      ]
     },
     "execution_count": 25,
     "metadata": {},
     "output_type": "execute_result"
    }
   ],
   "source": [
    "fd = nltk.FreqDist(tagged_text)\n",
    "fd.most_common(5)"
   ]
  },
  {
   "cell_type": "code",
   "execution_count": 26,
   "metadata": {
    "collapsed": false
   },
   "outputs": [],
   "source": [
    "# Adjectives\n",
    "cfd = nltk.ConditionalFreqDist((tag, word) for (word, tag) in tagged_text if tag.startswith(\"JJ\"))\n",
    "adjConditions = cfd.conditions()"
   ]
  },
  {
   "cell_type": "code",
   "execution_count": 27,
   "metadata": {
    "collapsed": false
   },
   "outputs": [
    {
     "name": "stdout",
     "output_type": "stream",
     "text": [
      "JJR ['more', 'less', 'smaller', 'better', 'classifier']\n",
      "JJ ['artificial', 'neural', 'ai', 'deep', 'human', 'possible', 'genetic', 'good', 'other', 'self-driving']\n",
      "JJS ['best', 'most', 'lowest']\n"
     ]
    }
   ],
   "source": [
    "for adjCond in adjConditions:\n",
    "    print(adjCond, [wt[0] for (wt, _) in word_tag_fd.most_common() if wt[1] == adjCond][:10])"
   ]
  },
  {
   "cell_type": "code",
   "execution_count": 28,
   "metadata": {
    "collapsed": false
   },
   "outputs": [
    {
     "name": "stdout",
     "output_type": "stream",
     "text": [
      "['JJ', 'NN', 'DT', 'IN', 'VB', 'VBG', '.', 'CC', 'WP', 'VBZ', 'POS', \"''\", 'NNS', ')', 'VBP', 'PRP$', '(', '``', 'TO', 'CD', 'JJS', 'MD', 'RB', 'WDT', 'VBN', 'WRB', 'RP', 'JJR', 'NNP', 'VBD']\n"
     ]
    }
   ],
   "source": [
    "word_tag_pairs = nltk.bigrams(tagged_text)\n",
    "noun_preceders = [a[1] for (a, b) in word_tag_pairs if b[1] == 'NN']\n",
    "fdist = nltk.FreqDist(noun_preceders)\n",
    "tags1 = [tag for (tag, _) in fdist.most_common()]\n",
    "print(tags1)"
   ]
  },
  {
   "cell_type": "code",
   "execution_count": 29,
   "metadata": {
    "collapsed": false
   },
   "outputs": [
    {
     "name": "stdout",
     "output_type": "stream",
     "text": [
      "JJ 261\n",
      "NN 154\n",
      "DT 147\n",
      "IN 111\n",
      "VB 42\n",
      "VBG 30\n",
      ". 17\n",
      "CC 15\n",
      "WP 11\n",
      "VBZ 10\n",
      "POS 9\n",
      "'' 8\n",
      "NNS 8\n",
      ") 6\n",
      "VBP 6\n",
      "PRP$ 6\n",
      "( 6\n",
      "`` 4\n",
      "TO 4\n",
      "CD 3\n",
      "JJS 3\n",
      "MD 2\n",
      "RB 2\n",
      "WDT 2\n",
      "VBN 2\n",
      "WRB 2\n",
      "RP 1\n",
      "JJR 1\n",
      "NNP 1\n",
      "VBD 1\n"
     ]
    }
   ],
   "source": [
    "for k,v in fdist.most_common():\n",
    "    print(k,v)"
   ]
  },
  {
   "cell_type": "code",
   "execution_count": 30,
   "metadata": {
    "collapsed": false
   },
   "outputs": [
    {
     "name": "stdout",
     "output_type": "stream",
     "text": [
      "[((('artificial', 'JJ'), ('intelligence', 'NN')), 34), ((('neural', 'JJ'), ('network', 'NN')), 22), ((('genetic', 'JJ'), ('algorithm', 'NN')), 5), ((('human', 'JJ'), ('brain', 'NN')), 4), ((('deep', 'JJ'), ('learning', 'NN')), 3), ((('genetic', 'JJ'), ('algorithms', 'NN')), 3), ((('natural', 'JJ'), ('language', 'NN')), 2), ((('ai', 'JJ'), ('program', 'NN')), 2), ((('human', 'JJ'), ('intelligence', 'NN')), 2), ((('real', 'JJ'), ('world', 'NN')), 2)]\n"
     ]
    }
   ],
   "source": [
    "word_tag_pairs = nltk.bigrams(tagged_text)\n",
    "JJbeforeNN = [(a,b) for (a, b) in word_tag_pairs if b[1] == 'NN' and a[1] == 'JJ']\n",
    "fdist = nltk.FreqDist(JJbeforeNN)\n",
    "print(fdist.most_common(10))"
   ]
  },
  {
   "cell_type": "code",
   "execution_count": null,
   "metadata": {
    "collapsed": true
   },
   "outputs": [],
   "source": []
  }
 ],
 "metadata": {
  "anaconda-cloud": {},
  "kernelspec": {
   "display_name": "Python [Root]",
   "language": "python",
   "name": "Python [Root]"
  },
  "language_info": {
   "codemirror_mode": {
    "name": "ipython",
    "version": 3
   },
   "file_extension": ".py",
   "mimetype": "text/x-python",
   "name": "python",
   "nbconvert_exporter": "python",
   "pygments_lexer": "ipython3",
   "version": "3.5.2"
  }
 },
 "nbformat": 4,
 "nbformat_minor": 0
}
