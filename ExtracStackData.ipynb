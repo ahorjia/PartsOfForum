{
 "cells": [
  {
   "cell_type": "markdown",
   "metadata": {},
   "source": [
    "## Data\n",
    "* https://archive.org/download/stackexchange"
   ]
  },
  {
   "cell_type": "code",
   "execution_count": 1,
   "metadata": {
    "collapsed": false
   },
   "outputs": [],
   "source": [
    "# postFile = \"../StackExchangedData/3dprinting.stackexchange.com/Posts.xml\"\n",
    "# postFile = \"../StackExchangedData/ai.stackexchange.com/Posts.xml\"\n",
    "# postFile = \"../StackExchangedData/anime.stackexchange.com/Posts.xml\"\n",
    "postFile = \"../StackExchangedData/askubuntu.com/Posts.xml\""
   ]
  },
  {
   "cell_type": "code",
   "execution_count": 2,
   "metadata": {
    "collapsed": false
   },
   "outputs": [],
   "source": [
    "import xml.etree.ElementTree\n",
    "e = xml.etree.ElementTree.parse(postFile).getroot()"
   ]
  },
  {
   "cell_type": "code",
   "execution_count": 3,
   "metadata": {
    "collapsed": false
   },
   "outputs": [
    {
     "name": "stdout",
     "output_type": "stream",
     "text": [
      "248641\n"
     ]
    }
   ],
   "source": [
    "titles = []\n",
    "for atype in e.findall('row'):\n",
    "    title = atype.get('Title')\n",
    "    if title is not None:\n",
    "        titles.append(title)\n",
    "        \n",
    "print(len(titles))"
   ]
  },
  {
   "cell_type": "code",
   "execution_count": 4,
   "metadata": {
    "collapsed": false
   },
   "outputs": [],
   "source": [
    "alltitles = \" \".join(titles).lower()"
   ]
  },
  {
   "cell_type": "code",
   "execution_count": 5,
   "metadata": {
    "collapsed": false
   },
   "outputs": [
    {
     "name": "stdout",
     "output_type": "stream",
     "text": [
      "how to get the \"your battery is broken\" message to go away? how can i set the software center to install software for non-root users? what are some alternatives to upgrading without using the standard upgrade system? how to set up a headless server? how do i run a successful ubuntu hour? how do i go back to kde splash / login after installing xfce? how do i enable automatic updates? how do i install adobe flash player? how can i make ubuntu check for updates less often? what might prevent mouse movements between xrandr screens? where should i install sagemath? remove online status menu, but keep the logout menu? sane path to distribution upgrades what is the easiest way to strip a desktop edition to a server edition? what's the easiest way to set up a lamp stack? what is the performance loss if you run an ubuntu desktop edition for a server machine? when installing i'm given the option of encrypting my home folder -- what does this do? how to configure mail server to report a hostname \n"
     ]
    }
   ],
   "source": [
    "print(alltitles[:1000])"
   ]
  },
  {
   "cell_type": "code",
   "execution_count": 6,
   "metadata": {
    "collapsed": true
   },
   "outputs": [],
   "source": [
    "import nltk\n",
    "#nltk.download()"
   ]
  },
  {
   "cell_type": "code",
   "execution_count": 7,
   "metadata": {
    "collapsed": true
   },
   "outputs": [],
   "source": [
    "# POS tagger\n",
    "tokens = nltk.word_tokenize(alltitles)"
   ]
  },
  {
   "cell_type": "code",
   "execution_count": 8,
   "metadata": {
    "collapsed": false
   },
   "outputs": [
    {
     "name": "stdout",
     "output_type": "stream",
     "text": [
      "['how', 'to', 'get', 'the', '``', 'your', 'battery', 'is', 'broken', \"''\"]\n"
     ]
    }
   ],
   "source": [
    "# Tokenized Text\n",
    "print(tokens[:10])"
   ]
  },
  {
   "cell_type": "code",
   "execution_count": 9,
   "metadata": {
    "collapsed": false
   },
   "outputs": [
    {
     "name": "stdout",
     "output_type": "stream",
     "text": [
      "[('how', 'WRB'), ('to', 'TO'), ('get', 'VB'), ('the', 'DT'), ('``', '``'), ('your', 'PRP$'), ('battery', 'NN'), ('is', 'VBZ'), ('broken', 'VBN'), (\"''\", \"''\"), ('message', 'NN'), ('to', 'TO'), ('go', 'VB'), ('away', 'RB'), ('?', '.')]\n"
     ]
    }
   ],
   "source": [
    "# Tagged Text\n",
    "tagged_text = nltk.pos_tag(tokens)\n",
    "print(tagged_text[:15])"
   ]
  },
  {
   "cell_type": "code",
   "execution_count": 10,
   "metadata": {
    "collapsed": false
   },
   "outputs": [
    {
     "name": "stdout",
     "output_type": "stream",
     "text": [
      "NN: noun, common, singular or mass\n",
      "    common-carrier cabbage knuckle-duster Casino afghan shed thermostat\n",
      "    investment slide humour falloff slick wind hyena override subhumanity\n",
      "    machinist ...\n",
      "NNP: noun, proper, singular\n",
      "    Motown Venneboerger Czestochwa Ranzer Conchita Trumplane Christos\n",
      "    Oceanside Escobar Kreisler Sawyer Cougar Yvette Ervin ODI Darryl CTCA\n",
      "    Shannon A.K.C. Meltex Liverpool ...\n",
      "NNPS: noun, proper, plural\n",
      "    Americans Americas Amharas Amityvilles Amusements Anarcho-Syndicalists\n",
      "    Andalusians Andes Andruses Angels Animals Anthony Antilles Antiques\n",
      "    Apache Apaches Apocrypha ...\n",
      "NNS: noun, common, plural\n",
      "    undergraduates scotches bric-a-brac products bodyguards facets coasts\n",
      "    divestitures storehouses designs clubs fragrances averages\n",
      "    subjectivists apprehensions muses factory-jobs ...\n"
     ]
    }
   ],
   "source": [
    "#Documentation\n",
    "nltk.help.upenn_tagset('NN.*')"
   ]
  },
  {
   "cell_type": "markdown",
   "metadata": {},
   "source": [
    "Homonyms: each of two or more words having the same spelling but different meanings and origins (e.g., pole1 and pole2); a homograph.\n",
    "\n",
    "* Over - Preposition\n",
    "* The - Determiner\n",
    "* A - Determiner\n",
    "* And - Coordinating Conjunction\n"
   ]
  },
  {
   "cell_type": "code",
   "execution_count": 11,
   "metadata": {
    "collapsed": true
   },
   "outputs": [],
   "source": [
    "# Convert tokens to NLTK Text\n",
    "text = nltk.Text(tokens)"
   ]
  },
  {
   "cell_type": "code",
   "execution_count": 12,
   "metadata": {
    "collapsed": false
   },
   "outputs": [
    {
     "name": "stdout",
     "output_type": "stream",
     "text": [
      "ubuntu wifi windows file internet server usb wireless system desktop\n",
      "partition connection the terminal folder boot update files install\n",
      "directory\n"
     ]
    }
   ],
   "source": [
    "# Find similar words\n",
    "text.similar(\"network\")"
   ]
  },
  {
   "cell_type": "code",
   "execution_count": 13,
   "metadata": {
    "collapsed": false
   },
   "outputs": [
    {
     "name": "stdout",
     "output_type": "stream",
     "text": [
      "a ubuntu my windows an to in on install unity no this terminal and any\n",
      "all linux one gnome new\n"
     ]
    }
   ],
   "source": [
    "text.similar(\"the\")"
   ]
  },
  {
   "cell_type": "code",
   "execution_count": 14,
   "metadata": {
    "collapsed": false
   },
   "outputs": [
    {
     "name": "stdout",
     "output_type": "stream",
     "text": [
      "about\n"
     ]
    }
   ],
   "source": [
    "text.similar(\"artificial\")"
   ]
  },
  {
   "cell_type": "code",
   "execution_count": 15,
   "metadata": {
    "collapsed": false
   },
   "outputs": [
    {
     "name": "stdout",
     "output_type": "stream",
     "text": [
      "('fly', 'NN')\n"
     ]
    }
   ],
   "source": [
    "sample_tagged_token = nltk.tag.str2tuple('fly/NN')\n",
    "print(sample_tagged_token)"
   ]
  },
  {
   "cell_type": "code",
   "execution_count": 16,
   "metadata": {
    "collapsed": false
   },
   "outputs": [
    {
     "data": {
      "text/plain": [
       "dict_keys(['JJ', 'CD', 'VBP', '$', 'WRB', 'RBR', 'JJS', 'FW', 'RBS', 'NN', 'EX', ')', '``', 'PDT', 'RB', 'VBN', 'WP$', '#', '(', 'NNP', ':', ',', 'IN', 'TO', 'UH', 'VBG', 'VBD', 'NNS', '.', 'JJR', 'WP', 'LS', 'SYM', 'RP', 'NNPS', 'POS', 'CC', 'VBZ', 'VB', 'PRP', 'MD', 'WDT', 'DT', \"''\", 'PRP$'])"
      ]
     },
     "execution_count": 16,
     "metadata": {},
     "output_type": "execute_result"
    }
   ],
   "source": [
    "# Most common tags in the text\n",
    "tag_fd = nltk.FreqDist(tag for (word, tag) in tagged_text)\n",
    "tag_fd.keys()"
   ]
  },
  {
   "cell_type": "code",
   "execution_count": 17,
   "metadata": {
    "collapsed": true
   },
   "outputs": [],
   "source": [
    "#tag_fd.plot()"
   ]
  },
  {
   "cell_type": "markdown",
   "metadata": {},
   "source": [
    "* Adjectives as modifiers (The large pizza)\n",
    "* As predicates (The pizza is large)"
   ]
  },
  {
   "cell_type": "code",
   "execution_count": 18,
   "metadata": {
    "collapsed": true
   },
   "outputs": [],
   "source": [
    "#nltk.app.concordance()"
   ]
  },
  {
   "cell_type": "code",
   "execution_count": 19,
   "metadata": {
    "collapsed": false
   },
   "outputs": [
    {
     "name": "stdout",
     "output_type": "stream",
     "text": [
      "['NNPS', 'NN', 'NNP', 'NNS']\n"
     ]
    }
   ],
   "source": [
    "cfd = nltk.ConditionalFreqDist((tag, word) for (word, tag) in tagged_text if tag.startswith('NN'))\n",
    "print(cfd.conditions())\n",
    "nounConditions = cfd.conditions()"
   ]
  },
  {
   "cell_type": "code",
   "execution_count": 20,
   "metadata": {
    "collapsed": false
   },
   "outputs": [
    {
     "name": "stdout",
     "output_type": "stream",
     "text": [
      "['jails', 'e-mails', 'fglrx-updates', 'rsa', 'extra_cflags', 'comboboxes', '/redmine/files', 'applicaitons', 'drives/folders', 'guests']\n"
     ]
    }
   ],
   "source": [
    "cfd['NNS'].keys()\n",
    "print(list(cfd['NNS'].keys())[:10])"
   ]
  },
  {
   "cell_type": "code",
   "execution_count": 21,
   "metadata": {
    "collapsed": false
   },
   "outputs": [],
   "source": [
    "# Find the words with the given tag\n",
    "def findtags(tag_prefix, tagged_text, retCount):\n",
    "    cfd = nltk.ConditionalFreqDist((tag, word) for (word, tag) in tagged_text if tag.startswith(tag_prefix))\n",
    "    return dict((tag, list(cfd[tag].keys())[:retCount]) for tag in cfd.conditions())"
   ]
  },
  {
   "cell_type": "code",
   "execution_count": 22,
   "metadata": {
    "collapsed": false
   },
   "outputs": [
    {
     "name": "stdout",
     "output_type": "stream",
     "text": [
      "{'NNPS': [\"'requires\", 'broadcom', 'communications', \"'servers\", '.acsm', 'x64', '||', \"'volumes\", '/usr/share/themes'], 'NN': ['p900', 'desktop-amd64+mac', 'assumption', 'pulseaudio-equaliser', 'hid', 'vera', 'pear', 'gtx660', 'sitespeed.io', 'pixelation'], 'NNP': [\"'ip\", '/dev/sda3', 'x770', '/proc/stat', \"'export\", '-lxt', '`/var/lib/dpkg/updates/', \"'adduser\", '\\\\efi\\\\boot\\\\grubx64.efi', '/etc/.initramfs'], 'NNS': ['jails', 'e-mails', 'fglrx-updates', 'rsa', 'extra_cflags', 'comboboxes', '/redmine/files', 'applicaitons', 'drives/folders', 'guests']}\n"
     ]
    }
   ],
   "source": [
    "tagdict = findtags('NN', tagged_text, 10)\n",
    "print(tagdict)"
   ]
  },
  {
   "cell_type": "code",
   "execution_count": 23,
   "metadata": {
    "collapsed": false
   },
   "outputs": [
    {
     "name": "stdout",
     "output_type": "stream",
     "text": [
      "[('rollback', 'to', 'php'), ('guaranteed', 'to', 'work'), ('left', 'to', 'right'), ('attached', 'to', 'clock'), ('prompted', 'to', 'unlock'), ('needed', 'to', 'use'), ('connect', 'to', 'reliance'), ('connect', 'to', 'exchange'), ('supposed', 'to', 'read'), ('seems', 'to', 'block')]\n"
     ]
    }
   ],
   "source": [
    "# Three word phrases\n",
    "def process(sentence):\n",
    "    retVal = []\n",
    "    for (w1, t1), (w2, t2), (w3, t3) in nltk.trigrams(sentence):\n",
    "        if (t1.startswith('V') and t2 == 'TO' and t3.startswith('V')):\n",
    "            retVal.append((w1, w2, w3))\n",
    "    return retVal\n",
    "\n",
    "print(process(tagged_text)[:10])"
   ]
  },
  {
   "cell_type": "code",
   "execution_count": 24,
   "metadata": {
    "collapsed": false
   },
   "outputs": [
    {
     "name": "stdout",
     "output_type": "stream",
     "text": [
      "NNPS ['x64', '/usr/share/themes', 'broadcom', \"'requires\", \"'servers\", \"'volumes\", '||', '.acsm', 'communications']\n",
      "NN ['error', 'file', 'ubuntu', 'boot', 'problem', 'i', 'screen', 'server', 'system', 'installation', 'command', 'drive', 'partition', 'desktop', 'network', 'install', 'software', 'unity', 'package', 'access', 'driver', 'version', 'connection', 'script', 'grub', 'disk', 'directory', 'wifi', 'keyboard', 'folder', 'default', 'wireless', 'login', 'application', 'way', 'password', 'menu', 'time', 'manager', 'terminal', 'user', 'computer', 'monitor', 'card', 'sound', 'line', 'window', 'upgrade', 'help', 'video', 'program', 'mouse', 'mode', 'internet', 'issue', 'device', 'machine', 'gnome', 'root', 'dell', 'display', 'shell', 'use', 'home', 'linux', 'intel', 'virtualbox', 'icon', 'space', 'update', 'change', 'work', 'output', 'resolution', 'center', 'pc', 'laptop', 'image', 'cd', 'kernel', 'startup', 'text', 'option', 'firefox', 'usb', 'os', 'wine', 'list', 'size', 'name', 'panel', 'chrome', 'bash', 'printer', 'hdd', 'bit', 'app', 'source', 'key', 'configuration', 'share', 'permission', 'gui', 'ssh', 'bar', 'launcher', 'asus', 'python', 'hp', 'theme', 'touch', 'session', 'lubuntu', 'player', 'phone', 'download', 'audio', 'support', 'ip', 'message', 'apt-get', 'client', 'java', 'account', 'shortcut', 'brightness', 'touchpad', 'reboot', 'port', 'power', 'code', 'process', 'host', 'battery', 'steam', 'browser', 'hd', 'apache', 'flash', 'button', 'mac', 'kubuntu', 'volume', 'mount', 'environment', 'interface', 'difference', 'dash', 'setup', 'path']\n",
      "NNP ['/', '+', 'xubuntu', ']', '[', 'x', '>', 'xfce', 'xp', '<', '=', '|', '/home', '@', '-f', 'xampp', '.deb', 'xorg', 'x1', 'xps', '.desktop', 'xfce4', '.bashrc', 'x11', 'xrandr', '.sh', 'xbmc', 'xml', 'xorg.conf', '-i', '/boot', '-r', '-l', 'xterm', '/var/www', 'xmodmap', 'xerox', '.exe', '/tmp', '.iso', 'keyboard', 'x360', '*', 'x64', 'xrdp', '/opt', '.net', '~', 'xen', '/usr/bin', '/media', '/dev/sda', 'xmonad', '/usr', '..', '-u', '-a', 'x11vnc', '-c', '.run', 'xinput', '–', '.bin', 'toshiba', 'user', 'xonar', \"'sudo\", '/dev', '-s', '/var/lib/dpkg/lock', 'x220', 'kernel', '`sudo', 'x.org', '-p', '-e', 'xps13', 'x86', \"'/var/run/mysqld/mysqld.sock\", \"'/\", '/etc/fstab', '.jar', 'mount', '-o', '-h', '/var', '.tar.gz', './', 'xxx', '.profile', '-v', 'viber', '\\\\', \"'ls\", '/etc', '.mp4', '-rf', 'xperia', 'xinerama', '/dev/loop0', 'x2', '.doc', '/bin', 'kde', '/etc/shadow', \"'root\", 'x2go', 'xsane', 'xbox', \"'hd0\", 'xenial', '/etc/default/grub', '/dev/sda1', \"'make\", 'nvidia', 'xserver', '.txt', '.conf', '-9', '-22', '.odt', 'xkb', '/usr/bin/dpkg', \"'*\", '//', '*error*', 'zsh', 'xargs', 'zfs', '-d', '/var/www/html', '/proc', 'xfs', '.htaccess', '||', '-t', \"'ubuntu\", '/dev/sdb', '.tex', 'xbox360', '/etc/profile.d', '/var/www/', 'x230', '/etc/resolv.conf', 'xboxdrv', 'x86_64', 'kvm', '^', '~/.bashrc', '/sbin/init']\n",
      "NNS ['windows', 'files', 'lts', 'problems', 'drivers', 'packages', 'graphics', 'settings', 'issues', 'i', 'applications', 'data', 'icons', 'kernel', 'partitions', 'errors', 'permissions', 'programs', 'folders', 'updates', 'users', 'dependencies', 'keys', 'commands', 'fails', 'crashes', 'devices', 'options', 'monitors', 'media', 'drives', 'hangs', 'images', 'changes', 'fonts', 'bios', 'shortcuts', 'versions', 'directories', 'buttons', 'freezes', 'games', 'works', 'keeps', 'characters', 'boots', 'videos', 'lines', 'headphones', 'connections', 'speakers', 'tools', 'networks', 'libraries', 'notifications', 'results', 'themes', 'scripts', 'messages', 'repositories', 'accounts', 'computers', 'minutes', 'cards', 'names', 'services', 'pages', 'stops', 'workspaces', 'sources', 'ports', 'contents', 'machines', 'links', 'iptables', 'shows', 'times', 'servers', 'seconds', 'disks', 'ubuntu', 'displays', 'logs', 'systems', 'entries', 'items', 'colors', 'documents', 'processes', 'netbeans', 'effects', 'screens', 'variables', 'extensions', 'questions', 'passwords', 'clients', 'interfaces', 'websites', 'downloads', 'modules', 'shares', 'privileges', 'kernels', 'alternatives', 'numbers', 'plugins', 'breaks', 'preferences', 'bookmarks', 'returns', 'details', 'synaptics', 'contacts', 'differences', 'pictures', 'sites', 'events', 'hosts', 'notes', 'features', 'causes', 'things', 'headers', 'requirements', 'indicators', 'emails', 'caps', 'parameters', 'rules', 'others', 'disconnects', 'photos', 'atheros', 'releases', 'addresses', 'thumbnails', 'places', 'hours', 'drops', 'values', 'instances', 'sessions', 'browsers', 'softwares', 'controls', 'steps', 'groups', 'wallpapers', 'cups']\n"
     ]
    }
   ],
   "source": [
    "# Find the most common Nouns and proper Nouns\n",
    "word_tag_fd = nltk.FreqDist(tagged_text)\n",
    "\n",
    "# http://www.nltk.org/book/ch05.html\n",
    "for cond in nounConditions:\n",
    "    print(cond, [wt[0] for (wt, _) in word_tag_fd.most_common() if wt[1] == cond][:150])"
   ]
  },
  {
   "cell_type": "code",
   "execution_count": 25,
   "metadata": {
    "collapsed": false
   },
   "outputs": [
    {
     "data": {
      "text/plain": [
       "[(('to', 'TO'), 84648),\n",
       " (('?', '.'), 80203),\n",
       " (('ubuntu', 'JJ'), 56792),\n",
       " (('how', 'WRB'), 53649),\n",
       " (('in', 'IN'), 41035)]"
      ]
     },
     "execution_count": 25,
     "metadata": {},
     "output_type": "execute_result"
    }
   ],
   "source": [
    "fd = nltk.FreqDist(tagged_text)\n",
    "fd.most_common(5)"
   ]
  },
  {
   "cell_type": "code",
   "execution_count": 26,
   "metadata": {
    "collapsed": false
   },
   "outputs": [],
   "source": [
    "# Adjectives\n",
    "cfd = nltk.ConditionalFreqDist((tag, word) for (word, tag) in tagged_text if tag.startswith(\"JJ\"))\n",
    "adjConditions = cfd.conditions()"
   ]
  },
  {
   "cell_type": "code",
   "execution_count": 27,
   "metadata": {
    "collapsed": false
   },
   "outputs": [
    {
     "name": "stdout",
     "output_type": "stream",
     "text": [
      "JJ ['ubuntu', 'usb', 'unable', 'dual', 'new', 'install', 'i', 'terminal', 'hard', 'update']\n",
      "JJR ['more', 'older', 'launcher', 'better', 'newer', 'less', 'slower', 'higher', 'smaller', 'larger']\n",
      "JJS ['latest', 'best', 'guest', 'newest', 'most', 'easiest', 'least', 'fastest', 'lastest', 'simplest']\n"
     ]
    }
   ],
   "source": [
    "for adjCond in adjConditions:\n",
    "    print(adjCond, [wt[0] for (wt, _) in word_tag_fd.most_common() if wt[1] == adjCond][:10])"
   ]
  },
  {
   "cell_type": "code",
   "execution_count": 28,
   "metadata": {
    "collapsed": false
   },
   "outputs": [
    {
     "name": "stdout",
     "output_type": "stream",
     "text": [
      "['NN', 'JJ', 'IN', 'DT', 'VB', 'CD', '.', 'VBG', 'CC', 'PRP$', ':', 'NNS', 'VBN', 'VBP', 'NNP', '(', ')', ',', \"''\", 'WRB', '``', 'RB', 'VBZ', 'TO', 'POS', 'VBD', 'JJS', 'JJR', 'RP', 'WDT', 'WP', 'FW', 'MD', '$', 'PRP', 'RBR', 'EX', 'RBS', '#', 'UH', 'WP$', 'NNPS']\n"
     ]
    }
   ],
   "source": [
    "word_tag_pairs = nltk.bigrams(tagged_text)\n",
    "noun_preceders = [a[1] for (a, b) in word_tag_pairs if b[1] == 'NN']\n",
    "fdist = nltk.FreqDist(noun_preceders)\n",
    "tags1 = [tag for (tag, _) in fdist.most_common()]\n",
    "print(tags1)"
   ]
  },
  {
   "cell_type": "code",
   "execution_count": 29,
   "metadata": {
    "collapsed": false
   },
   "outputs": [
    {
     "name": "stdout",
     "output_type": "stream",
     "text": [
      "NN 139336\n",
      "JJ 125298\n",
      "IN 64074\n",
      "DT 53558\n",
      "VB 28964\n",
      "CD 22498\n",
      ". 17663\n",
      "VBG 16906\n",
      "CC 9527\n",
      "PRP$ 9172\n",
      ": 8446\n",
      "NNS 5763\n",
      "VBN 4189\n",
      "VBP 4063\n",
      "NNP 3757\n",
      "( 3752\n",
      ") 3552\n",
      ", 3366\n",
      "'' 3350\n",
      "WRB 3250\n",
      "`` 2968\n",
      "RB 2907\n",
      "VBZ 2333\n",
      "TO 2119\n",
      "POS 2105\n",
      "VBD 1958\n",
      "JJS 1595\n",
      "JJR 1136\n",
      "RP 1059\n",
      "WDT 835\n",
      "WP 811\n",
      "FW 612\n",
      "MD 261\n",
      "$ 163\n",
      "PRP 143\n",
      "RBR 127\n",
      "EX 36\n",
      "RBS 30\n",
      "# 25\n",
      "UH 14\n",
      "WP$ 10\n",
      "NNPS 4\n"
     ]
    }
   ],
   "source": [
    "for k,v in fdist.most_common():\n",
    "    print(k,v)"
   ]
  },
  {
   "cell_type": "code",
   "execution_count": 30,
   "metadata": {
    "collapsed": false
   },
   "outputs": [
    {
     "name": "stdout",
     "output_type": "stream",
     "text": [
      "[((('dual', 'JJ'), ('boot', 'NN')), 2133), ((('ubuntu', 'JJ'), ('server', 'NN')), 1574), ((('hard', 'JJ'), ('drive', 'NN')), 1427), ((('black', 'JJ'), ('screen', 'NN')), 1145), ((('ubuntu', 'JJ'), ('touch', 'NN')), 728), ((('ubuntu', 'JJ'), ('software', 'NN')), 681), ((('ubuntu', 'JJ'), ('installation', 'NN')), 560), ((('usb', 'JJ'), ('drive', 'NN')), 521), ((('hard', 'JJ'), ('disk', 'NN')), 499), ((('ubuntu', 'JJ'), ('desktop', 'NN')), 476)]\n"
     ]
    }
   ],
   "source": [
    "# Most common JJ+NN pairs\n",
    "word_tag_pairs = nltk.bigrams(tagged_text)\n",
    "JJbeforeNN = [(a,b) for (a, b) in word_tag_pairs if b[1] == 'NN' and a[1] == 'JJ']\n",
    "fdist = nltk.FreqDist(JJbeforeNN)\n",
    "print(fdist.most_common(10))"
   ]
  },
  {
   "cell_type": "code",
   "execution_count": null,
   "metadata": {
    "collapsed": true
   },
   "outputs": [],
   "source": []
  }
 ],
 "metadata": {
  "anaconda-cloud": {},
  "kernelspec": {
   "display_name": "Python [Root]",
   "language": "python",
   "name": "Python [Root]"
  },
  "language_info": {
   "codemirror_mode": {
    "name": "ipython",
    "version": 3
   },
   "file_extension": ".py",
   "mimetype": "text/x-python",
   "name": "python",
   "nbconvert_exporter": "python",
   "pygments_lexer": "ipython3",
   "version": "3.5.2"
  }
 },
 "nbformat": 4,
 "nbformat_minor": 0
}
